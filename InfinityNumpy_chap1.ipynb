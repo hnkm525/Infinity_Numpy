{
  "nbformat": 4,
  "nbformat_minor": 0,
  "metadata": {
    "colab": {
      "name": "InfinityNumpy_chap1.ipynb",
      "provenance": [],
      "collapsed_sections": [],
      "authorship_tag": "ABX9TyPy6O0eYI+zsTfjJMnEk2T6",
      "include_colab_link": true
    },
    "kernelspec": {
      "name": "python3",
      "display_name": "Python 3"
    }
  },
  "cells": [
    {
      "cell_type": "markdown",
      "metadata": {
        "id": "view-in-github",
        "colab_type": "text"
      },
      "source": [
        "<a href=\"https://colab.research.google.com/github/hnkm525/Infinity_Numpy/blob/main/InfinityNumpy_chap1.ipynb\" target=\"_parent\"><img src=\"https://colab.research.google.com/assets/colab-badge.svg\" alt=\"Open In Colab\"/></a>"
      ]
    },
    {
      "cell_type": "markdown",
      "metadata": {
        "id": "G-RXW-O121Pt"
      },
      "source": [
        "# 1章演習問題解答"
      ]
    },
    {
      "cell_type": "markdown",
      "metadata": {
        "id": "NayDT1Pm3ZPZ"
      },
      "source": [
        "# Q1:はじめましてリスト"
      ]
    },
    {
      "cell_type": "code",
      "metadata": {
        "colab": {
          "base_uri": "https://localhost:8080/"
        },
        "id": "nEGjlGBx2yda",
        "outputId": "e8382f99-187e-461e-e9dc-ebe6d5ecc5eb"
      },
      "source": [
        "anko_a_name = [\"こしあん\", \"ごまあん\", \"栗あん\", \"かぼちゃあん\"]\r\n",
        "print(anko_a_name)"
      ],
      "execution_count": null,
      "outputs": [
        {
          "output_type": "stream",
          "text": [
            "['こしあん', 'ごまあん', '栗あん', 'かぼちゃあん']\n"
          ],
          "name": "stdout"
        }
      ]
    },
    {
      "cell_type": "markdown",
      "metadata": {
        "id": "5RZ3jQMA3w70"
      },
      "source": [
        "# Q2:リストとforループ\r\n"
      ]
    },
    {
      "cell_type": "code",
      "metadata": {
        "colab": {
          "base_uri": "https://localhost:8080/"
        },
        "id": "GqjU4v3233da",
        "outputId": "f8aba9ce-f056-40f5-aad9-c1f49e02d19e"
      },
      "source": [
        "for name in anko_a_name:\r\n",
        "  print(name)"
      ],
      "execution_count": null,
      "outputs": [
        {
          "output_type": "stream",
          "text": [
            "こしあん\n",
            "ごまあん\n",
            "栗あん\n",
            "かぼちゃあん\n"
          ],
          "name": "stdout"
        }
      ]
    },
    {
      "cell_type": "markdown",
      "metadata": {
        "id": "gUe-CVcj39Qn"
      },
      "source": [
        "# Q3:文字列の結合"
      ]
    },
    {
      "cell_type": "code",
      "metadata": {
        "colab": {
          "base_uri": "https://localhost:8080/"
        },
        "id": "-wHPRg0Q4AUU",
        "outputId": "0fadb53e-7146-47e2-f9fe-4236903a4c9e"
      },
      "source": [
        "for name in anko_a_name:\r\n",
        "  print(\"{}好評発売中!\".format(name))"
      ],
      "execution_count": null,
      "outputs": [
        {
          "output_type": "stream",
          "text": [
            "こしあん好評発売中!\n",
            "ごまあん好評発売中!\n",
            "栗あん好評発売中!\n",
            "かぼちゃあん好評発売中!\n"
          ],
          "name": "stdout"
        }
      ]
    },
    {
      "cell_type": "markdown",
      "metadata": {
        "id": "4UtaCCEL4QPA"
      },
      "source": [
        "# Q4:条件分岐"
      ]
    },
    {
      "cell_type": "code",
      "metadata": {
        "colab": {
          "base_uri": "https://localhost:8080/"
        },
        "id": "i_VWCrQR4T0g",
        "outputId": "be6fad52-96e0-401b-82a2-d6a22d0254df"
      },
      "source": [
        "# modで文字数判定するヒントの意図がよくわからない\r\n",
        "for name in anko_a_name:\r\n",
        "  if len(name) == 4:\r\n",
        "    print(\"{} 価格:100円\".format(name))\r\n",
        "  else:\r\n",
        "    print(\"{} 価格:150円\".format(name))"
      ],
      "execution_count": null,
      "outputs": [
        {
          "output_type": "stream",
          "text": [
            "こしあん 価格:100円\n",
            "ごまあん 価格:100円\n",
            "栗あん 価格:150円\n",
            "かぼちゃあん 価格:150円\n"
          ],
          "name": "stdout"
        }
      ]
    },
    {
      "cell_type": "markdown",
      "metadata": {
        "id": "wjE0_IsY5RCv"
      },
      "source": [
        "# Q5:zip関数"
      ]
    },
    {
      "cell_type": "code",
      "metadata": {
        "colab": {
          "base_uri": "https://localhost:8080/"
        },
        "id": "5owc1q7b5Ut-",
        "outputId": "efef294b-45fc-4d84-e6cf-6ac47ab6cc3b"
      },
      "source": [
        "anko_a_price = [\"100円\", \"120円\", \"200円\", \"150円\"]\r\n",
        "for name, price in zip(anko_a_name, anko_a_price):\r\n",
        "  print(name, price)"
      ],
      "execution_count": null,
      "outputs": [
        {
          "output_type": "stream",
          "text": [
            "こしあん 100円\n",
            "ごまあん 120円\n",
            "栗あん 200円\n",
            "かぼちゃあん 150円\n"
          ],
          "name": "stdout"
        }
      ]
    },
    {
      "cell_type": "markdown",
      "metadata": {
        "id": "fXoFhRlP5sLE"
      },
      "source": [
        "# Q6:リストのリスト"
      ]
    },
    {
      "cell_type": "code",
      "metadata": {
        "colab": {
          "base_uri": "https://localhost:8080/"
        },
        "id": "TGcz3f6O5gMg",
        "outputId": "942dc827-bed3-4d0b-882a-2c773375c6fc"
      },
      "source": [
        "anko_b = [list([x, y]) for x, y in zip(anko_a_name, [\"大福\", \"大福\", \"あんぱん\", \"あんぱん\"])]\r\n",
        "print(anko_b)"
      ],
      "execution_count": null,
      "outputs": [
        {
          "output_type": "stream",
          "text": [
            "[['こしあん', '大福'], ['ごまあん', '大福'], ['栗あん', 'あんぱん'], ['かぼちゃあん', 'あんぱん']]\n"
          ],
          "name": "stdout"
        }
      ]
    },
    {
      "cell_type": "markdown",
      "metadata": {
        "id": "qFPJkUs-6uOu"
      },
      "source": [
        "# Q7:多重ループ"
      ]
    },
    {
      "cell_type": "code",
      "metadata": {
        "colab": {
          "base_uri": "https://localhost:8080/"
        },
        "id": "_-eLxcYi6m30",
        "outputId": "cab966c4-7c4d-4b62-ccac-7099e65bfc01"
      },
      "source": [
        "for lst in anko_b:\r\n",
        "  for name in lst:\r\n",
        "    print(name)\r\n",
        "  print(\"---\")"
      ],
      "execution_count": null,
      "outputs": [
        {
          "output_type": "stream",
          "text": [
            "こしあん\n",
            "大福\n",
            "---\n",
            "ごまあん\n",
            "大福\n",
            "---\n",
            "栗あん\n",
            "あんぱん\n",
            "---\n",
            "かぼちゃあん\n",
            "あんぱん\n",
            "---\n"
          ],
          "name": "stdout"
        }
      ]
    },
    {
      "cell_type": "markdown",
      "metadata": {
        "id": "QgTeo13Y7GGU"
      },
      "source": [
        "# Q8:開業しないprint()"
      ]
    },
    {
      "cell_type": "code",
      "metadata": {
        "colab": {
          "base_uri": "https://localhost:8080/"
        },
        "id": "dt51Rijt7KSy",
        "outputId": "c563536d-a069-420e-e8f1-67f13d33d750"
      },
      "source": [
        "for lst in anko_b:\r\n",
        "  for name in lst:\r\n",
        "    print(name, end=\"\")\r\n",
        "  print()"
      ],
      "execution_count": null,
      "outputs": [
        {
          "output_type": "stream",
          "text": [
            "こしあん大福\n",
            "ごまあん大福\n",
            "栗あんあんぱん\n",
            "かぼちゃあんあんぱん\n"
          ],
          "name": "stdout"
        }
      ]
    },
    {
      "cell_type": "markdown",
      "metadata": {
        "id": "cTnr3K1u7wDs"
      },
      "source": [
        "# Q9:インデックスに選択"
      ]
    },
    {
      "cell_type": "code",
      "metadata": {
        "colab": {
          "base_uri": "https://localhost:8080/"
        },
        "id": "hj4KSLcp7z4h",
        "outputId": "7f501b74-05ea-4d27-ad21-dfbef9faf588"
      },
      "source": [
        "for lst in anko_b:\r\n",
        "  print(lst[1])"
      ],
      "execution_count": null,
      "outputs": [
        {
          "output_type": "stream",
          "text": [
            "大福\n",
            "大福\n",
            "あんぱん\n",
            "あんぱん\n"
          ],
          "name": "stdout"
        }
      ]
    },
    {
      "cell_type": "markdown",
      "metadata": {
        "id": "2XIX-Vbz8F_2"
      },
      "source": [
        "# Q10:インデックスによる条件分岐\r\n"
      ]
    },
    {
      "cell_type": "code",
      "metadata": {
        "colab": {
          "base_uri": "https://localhost:8080/"
        },
        "id": "dSkG2V8G8Utj",
        "outputId": "3e489a5f-e139-4437-ef36-3df0d22b6b2b"
      },
      "source": [
        "for lst in anko_b:\r\n",
        "  if lst[1] == \"あんぱん\":\r\n",
        "    for name in lst:\r\n",
        "      print(name, end=\"\")\r\n",
        "  print()"
      ],
      "execution_count": null,
      "outputs": [
        {
          "output_type": "stream",
          "text": [
            "\n",
            "\n",
            "栗あんあんぱん\n",
            "かぼちゃあんあんぱん\n"
          ],
          "name": "stdout"
        }
      ]
    },
    {
      "cell_type": "markdown",
      "metadata": {
        "id": "G29m_Pde82v1"
      },
      "source": [
        "# Q11:文字列の反転"
      ]
    },
    {
      "cell_type": "code",
      "metadata": {
        "colab": {
          "base_uri": "https://localhost:8080/"
        },
        "id": "7RBcROgn85hi",
        "outputId": "7fec1524-2a90-4928-ff2b-35cc4a2296d8"
      },
      "source": [
        "for lst in anko_b:\r\n",
        "  for name in lst[::-1]:\r\n",
        "    print(name[::-1], end=\" \")\r\n",
        "  print()"
      ],
      "execution_count": null,
      "outputs": [
        {
          "output_type": "stream",
          "text": [
            "福大 んあしこ \n",
            "福大 んあまご \n",
            "んぱんあ んあ栗 \n",
            "んぱんあ んあゃちぼか \n"
          ],
          "name": "stdout"
        }
      ]
    },
    {
      "cell_type": "markdown",
      "metadata": {
        "id": "bPM357PW9uH0"
      },
      "source": [
        "# Q12:リストのインデックス入門"
      ]
    },
    {
      "cell_type": "code",
      "metadata": {
        "colab": {
          "base_uri": "https://localhost:8080/"
        },
        "id": "-02tpgRi-Tu8",
        "outputId": "b40a4127-ed23-481d-a4a5-b30ccec1016a"
      },
      "source": [
        "anko_list = [\"こしあん\", \"ごまあん\", \"栗あん\", \"かぼちゃあん\"]\r\n",
        "print(anko_list[0])\r\n",
        "print(anko_list[2])"
      ],
      "execution_count": null,
      "outputs": [
        {
          "output_type": "stream",
          "text": [
            "こしあん\n",
            "栗あん\n"
          ],
          "name": "stdout"
        }
      ]
    },
    {
      "cell_type": "markdown",
      "metadata": {
        "id": "x8Vf4ams-kyk"
      },
      "source": [
        "# Q13:負のインデックス"
      ]
    },
    {
      "cell_type": "code",
      "metadata": {
        "colab": {
          "base_uri": "https://localhost:8080/"
        },
        "id": "yBUtQxqc-oPo",
        "outputId": "d10f4fd0-b398-48d8-baaa-f393eef6fe81"
      },
      "source": [
        "print(anko_list[-1])\r\n",
        "print(anko_list[-3])"
      ],
      "execution_count": null,
      "outputs": [
        {
          "output_type": "stream",
          "text": [
            "かぼちゃあん\n",
            "ごまあん\n"
          ],
          "name": "stdout"
        }
      ]
    },
    {
      "cell_type": "markdown",
      "metadata": {
        "id": "YeUDWz6C-xx1"
      },
      "source": [
        "# Q14:リストのスライス"
      ]
    },
    {
      "cell_type": "code",
      "metadata": {
        "colab": {
          "base_uri": "https://localhost:8080/"
        },
        "id": "IbToH7mX-0q1",
        "outputId": "65610557-01fc-4653-89ae-6e13dc44fbbd"
      },
      "source": [
        "print(anko_list[1:])\r\n",
        "print(anko_list[1:3])\r\n",
        "print(anko_list[:3])"
      ],
      "execution_count": null,
      "outputs": [
        {
          "output_type": "stream",
          "text": [
            "['ごまあん', '栗あん', 'かぼちゃあん']\n",
            "['ごまあん', '栗あん']\n",
            "['こしあん', 'ごまあん', '栗あん']\n"
          ],
          "name": "stdout"
        }
      ]
    },
    {
      "cell_type": "markdown",
      "metadata": {
        "id": "Jeov4-8A_DJU"
      },
      "source": [
        "# Q15:リストの反転"
      ]
    },
    {
      "cell_type": "code",
      "metadata": {
        "colab": {
          "base_uri": "https://localhost:8080/"
        },
        "id": "HrEEZphl_GQj",
        "outputId": "f00ca0d3-e2ce-4fab-9b49-d20c794cc105"
      },
      "source": [
        "for name in anko_list:\r\n",
        "  print(name[::-1])"
      ],
      "execution_count": null,
      "outputs": [
        {
          "output_type": "stream",
          "text": [
            "んあしこ\n",
            "んあまご\n",
            "んあ栗\n",
            "んあゃちぼか\n"
          ],
          "name": "stdout"
        }
      ]
    },
    {
      "cell_type": "markdown",
      "metadata": {
        "id": "Sh8Vn0iv_Ye7"
      },
      "source": [
        ""
      ]
    },
    {
      "cell_type": "markdown",
      "metadata": {
        "id": "OFIz4Ddv_7h8"
      },
      "source": [
        "# Q16:昇順ソート"
      ]
    },
    {
      "cell_type": "code",
      "metadata": {
        "colab": {
          "base_uri": "https://localhost:8080/"
        },
        "id": "wm2nhJwRAaWP",
        "outputId": "8e661f9d-4dd1-4a6a-bf1f-2e7164e15331"
      },
      "source": [
        "print(sorted(anko_list))"
      ],
      "execution_count": null,
      "outputs": [
        {
          "output_type": "stream",
          "text": [
            "['かぼちゃあん', 'こしあん', 'ごまあん', '栗あん']\n"
          ],
          "name": "stdout"
        }
      ]
    },
    {
      "cell_type": "markdown",
      "metadata": {
        "id": "Pd2Le-OkBJw1"
      },
      "source": [
        "# Q17:降順ソート"
      ]
    },
    {
      "cell_type": "code",
      "metadata": {
        "colab": {
          "base_uri": "https://localhost:8080/"
        },
        "id": "BcnXFESlBPbj",
        "outputId": "2fb91c7d-6ba0-4b0d-9f1e-7ff5089690a9"
      },
      "source": [
        "print(sorted(anko_list, reverse=True))\r\n",
        "print(sorted(anko_list)[::-1])"
      ],
      "execution_count": null,
      "outputs": [
        {
          "output_type": "stream",
          "text": [
            "['栗あん', 'ごまあん', 'こしあん', 'かぼちゃあん']\n",
            "['栗あん', 'ごまあん', 'こしあん', 'かぼちゃあん']\n"
          ],
          "name": "stdout"
        }
      ]
    },
    {
      "cell_type": "markdown",
      "metadata": {
        "id": "9VXcHsm5Bf3S"
      },
      "source": [
        "# Q18:偶数だけのスライス\r\n"
      ]
    },
    {
      "cell_type": "code",
      "metadata": {
        "colab": {
          "base_uri": "https://localhost:8080/"
        },
        "id": "9Lxet7B9Bn05",
        "outputId": "46b3aa1a-0d0e-4712-a82d-d6990d483ac2"
      },
      "source": [
        "num_list = [i+10 for i in range(10)]\r\n",
        "print(num_list[::2])"
      ],
      "execution_count": null,
      "outputs": [
        {
          "output_type": "stream",
          "text": [
            "[10, 12, 14, 16, 18]\n"
          ],
          "name": "stdout"
        }
      ]
    },
    {
      "cell_type": "markdown",
      "metadata": {
        "id": "g-I7-UEDBlNV"
      },
      "source": [
        "# Q19:3個おきのスライス"
      ]
    },
    {
      "cell_type": "code",
      "metadata": {
        "colab": {
          "base_uri": "https://localhost:8080/"
        },
        "id": "VkqaTRGXCAnY",
        "outputId": "070f8ff7-c85d-42e6-f869-d851aaca752a"
      },
      "source": [
        "print(num_list[2:6:3])"
      ],
      "execution_count": null,
      "outputs": [
        {
          "output_type": "stream",
          "text": [
            "[12, 15]\n"
          ],
          "name": "stdout"
        }
      ]
    },
    {
      "cell_type": "markdown",
      "metadata": {
        "id": "ZnRWCUyUCK5A"
      },
      "source": [
        "# Q20:3個おきにスライスして反転"
      ]
    },
    {
      "cell_type": "code",
      "metadata": {
        "colab": {
          "base_uri": "https://localhost:8080/"
        },
        "id": "PGonUnc-CQ2R",
        "outputId": "9d1ebb39-e69e-4fe4-dd4c-32d6414c7c5a"
      },
      "source": [
        "print(num_list[1::3][::-1])"
      ],
      "execution_count": null,
      "outputs": [
        {
          "output_type": "stream",
          "text": [
            "[17, 14, 11]\n"
          ],
          "name": "stdout"
        }
      ]
    },
    {
      "cell_type": "markdown",
      "metadata": {
        "id": "th0-E9l5CZmF"
      },
      "source": [
        "# Q21:リストの結合"
      ]
    },
    {
      "cell_type": "code",
      "metadata": {
        "colab": {
          "base_uri": "https://localhost:8080/"
        },
        "id": "1frjPJptCcS3",
        "outputId": "57e8abcc-0f08-4fa9-bdb9-40a988da72bd"
      },
      "source": [
        "anko_char = [c for name in anko_list for c in name]\r\n",
        "print(anko_char)"
      ],
      "execution_count": null,
      "outputs": [
        {
          "output_type": "stream",
          "text": [
            "['こ', 'し', 'あ', 'ん', 'ご', 'ま', 'あ', 'ん', '栗', 'あ', 'ん', 'か', 'ぼ', 'ち', 'ゃ', 'あ', 'ん']\n"
          ],
          "name": "stdout"
        }
      ]
    },
    {
      "cell_type": "markdown",
      "metadata": {
        "id": "afcyN75PEbLy"
      },
      "source": [
        "# Q22:リストの要素の削除"
      ]
    },
    {
      "cell_type": "code",
      "metadata": {
        "colab": {
          "base_uri": "https://localhost:8080/"
        },
        "id": "Rt7jKjWtEg5h",
        "outputId": "ea47650e-b2cf-4f98-86fc-a71eb288c9eb"
      },
      "source": [
        "anko_char.remove('栗')\r\n",
        "print(anko_char)"
      ],
      "execution_count": null,
      "outputs": [
        {
          "output_type": "stream",
          "text": [
            "['こ', 'し', 'あ', 'ん', 'ご', 'ま', 'あ', 'ん', 'あ', 'ん', 'か', 'ぼ', 'ち', 'ゃ', 'あ', 'ん']\n"
          ],
          "name": "stdout"
        }
      ]
    },
    {
      "cell_type": "markdown",
      "metadata": {
        "id": "6V6hNr2yEpYw"
      },
      "source": [
        "# Q23:追加して新しいリストを追加"
      ]
    },
    {
      "cell_type": "code",
      "metadata": {
        "colab": {
          "base_uri": "https://localhost:8080/"
        },
        "id": "r2uyNYxdEwHs",
        "outputId": "27713e7a-e4f8-479c-95c0-30e9e7a8f685"
      },
      "source": [
        "x = []\r\n",
        "for c in anko_char:\r\n",
        "  if not c in ['あ', 'ん']:\r\n",
        "    x.append(c)\r\n",
        "print(x)"
      ],
      "execution_count": null,
      "outputs": [
        {
          "output_type": "stream",
          "text": [
            "['こ', 'し', 'ご', 'ま', 'か', 'ぼ', 'ち', 'ゃ']\n"
          ],
          "name": "stdout"
        }
      ]
    },
    {
      "cell_type": "markdown",
      "metadata": {
        "id": "L0Cnss3ZFNoZ"
      },
      "source": [
        "# Q24:北海道の市町村～データ読み込み～"
      ]
    },
    {
      "cell_type": "code",
      "metadata": {
        "colab": {
          "base_uri": "https://localhost:8080/"
        },
        "id": "mDzc6qnUFU8t",
        "outputId": "2a0dc11e-310b-42f5-d2be-f8e102a3f2e2"
      },
      "source": [
        "!git clone https://github.com/koshian2/numpy_book"
      ],
      "execution_count": null,
      "outputs": [
        {
          "output_type": "stream",
          "text": [
            "Cloning into 'numpy_book'...\n",
            "remote: Enumerating objects: 140, done.\u001b[K\n",
            "remote: Counting objects: 100% (140/140), done.\u001b[K\n",
            "remote: Compressing objects: 100% (115/115), done.\u001b[K\n",
            "remote: Total 140 (delta 42), reused 78 (delta 17), pack-reused 0\u001b[K\n",
            "Receiving objects: 100% (140/140), 15.71 MiB | 17.72 MiB/s, done.\n",
            "Resolving deltas: 100% (42/42), done.\n"
          ],
          "name": "stdout"
        }
      ]
    },
    {
      "cell_type": "code",
      "metadata": {
        "colab": {
          "base_uri": "https://localhost:8080/"
        },
        "id": "H6aCKCo8FcCA",
        "outputId": "e237a9d4-9c74-4173-ef68-f6c0aad36282"
      },
      "source": [
        "with open(\"numpy_book/data/hokkaido_raw.txt\") as fp:\r\n",
        "  text = fp.readlines() \r\n",
        "print(text)"
      ],
      "execution_count": null,
      "outputs": [
        {
          "output_type": "stream",
          "text": [
            "['空知,夕張市,7769\\n', '空知,岩見沢市,80410\\n', '空知,美唄市,21058\\n', '空知,芦別市,13204\\n', '空知,赤平市,9906\\n', '空知,三笠市,8302\\n', '空知,滝川市,39861\\n', '空知,砂川市,16848\\n', '空知,歌志内市,3130\\n', '空知,深川市,20422\\n', '空知,南幌町,7461\\n', '空知,奈井江町,5335\\n', '空知,上砂川町,2874\\n', '空知,由仁町,5061\\n', '空知,長沼町,10649\\n', '空知,栗山町,11637\\n', '空知,月形町,3117\\n', '空知,浦臼町,1785\\n', '空知,新十津川町,6532\\n', '空知,妹背牛町,2902\\n', '空知,秩父別町,2401\\n', '空知,雨竜町,2323\\n', '空知,北竜町,1798\\n', '空知,沼田町,3017\\n', '石狩,札幌市,1959313\\n', '石狩,江別市,119580\\n', '石狩,千歳市,97552\\n', '石狩,恵庭市,70049\\n', '石狩,北広島市,58265\\n', '石狩,石狩市,58288\\n', '石狩,当別町,15840\\n', '石狩,新篠津村,3033\\n', '後志,小樽市,114425\\n', '後志,島牧村,1433\\n', '後志,寿都町,2948\\n', '後志,黒松内町,2784\\n', '後志,蘭越町,4669\\n', '後志,ニセコ町,5403\\n', '後志,真狩村,2079\\n', '後志,留寿都村,2070\\n', '後志,喜茂別町,2201\\n', '後志,京極町,2979\\n', '後志,倶知安町,16892\\n', '後志,共和町,5858\\n', '後志,岩内町,12314\\n', '後志,泊村,1613\\n', '後志,神恵内村,840\\n', '後志,積丹町,1981\\n', '後志,古平町,3015\\n', '後志,仁木町,3251\\n', '後志,余市町,18564\\n', '後志,赤井川村,1273\\n', '胆振,室蘭市,82977\\n', '胆振,苫小牧市,171242\\n', '胆振,登別市,47608\\n', '胆振,伊達市,33896\\n', '胆振,豊浦町,3923\\n', '胆振,壮瞥町,2517\\n', '胆振,白老町,16638\\n', '胆振,厚真町,4500\\n', '胆振,洞爺湖町,8689\\n', '胆振,安平町,7761\\n', '胆振,むかわ町,7870\\n', '日高,日高町,11919\\n', '日高,平取町,4923\\n', '日高,新冠町,5483\\n', '日高,浦河町,12166\\n', '日高,様似町,4230\\n', '日高,えりも町,4623\\n', '日高,新ひだか町,22242\\n', '渡島,函館市,255308\\n', '渡島,北斗市,46031\\n', '渡島,松前町,6996\\n', '渡島,福島町,3968\\n', '渡島,知内町,4290\\n', '渡島,木古内町,4066\\n', '渡島,七飯町,28148\\n', '渡島,鹿部町,3899\\n', '渡島,森町,15230\\n', '渡島,八雲町,16293\\n', '渡島,長万部町,5271\\n', '檜山,江差町,7488\\n', '檜山,上ノ国町,4707\\n', '檜山,厚沢部町,3792\\n', '檜山,乙部町,3625\\n', '檜山,奥尻町,2586\\n', '檜山,今金町,5178\\n', '檜山,せたな町,7743\\n', '上川,旭川市,334070\\n', '上川,士別市,18562\\n', '上川,名寄市,27277\\n', '上川,富良野市,21593\\n', '上川,鷹栖町,6821\\n', '上川,東神楽町,10239\\n', '上川,当麻町,6400\\n', '上川,比布町,3676\\n', '上川,愛別町,2723\\n', '上川,上川町,3510\\n', '上川,東川町,8380\\n', '上川,美瑛町,9912\\n', '上川,上富良野町,10661\\n', '上川,中富良野町,4938\\n', '上川,南富良野町,2434\\n', '上川,占冠村,1613\\n', '上川,和寒町,3278\\n', '上川,剣淵町,3063\\n', '上川,下川町,3254\\n', '上川,美深町,4244\\n', '上川,音威子府村,729\\n', '上川,中川町,1492\\n', '上川,幌加内町,1447\\n', '留萌,留萌市,20715\\n', '留萌,増毛町,4222\\n', '留萌,小平町,3087\\n', '留萌,苫前町,3034\\n', '留萌,羽幌町,6796\\n', '留萌,初山別村,1152\\n', '留萌,遠別町,2626\\n', '留萌,天塩町,3006\\n', '宗谷,稚内市,33605\\n', '宗谷,猿払村,2766\\n', '宗谷,浜頓別町,3535\\n', '宗谷,中頓別町,1679\\n', '宗谷,枝幸町,8027\\n', '宗谷,豊富町,3891\\n', '宗谷,礼文町,2477\\n', '宗谷,利尻町,2001\\n', '宗谷,利尻富士町,2432\\n', '宗谷,幌延町,2294\\n', 'オホーツク,北見市,116630\\n', 'オホーツク,網走市,35039\\n', 'オホーツク,紋別市,21582\\n', 'オホーツク,美幌町,19233\\n', 'オホーツク,津別町,4597\\n', 'オホーツク,斜里町,11530\\n', 'オホーツク,清里町,4005\\n', 'オホーツク,小清水町,4800\\n', 'オホーツク,訓子府町,4889\\n', 'オホーツク,置戸町,2837\\n', 'オホーツク,佐呂間町,5111\\n', 'オホーツク,遠軽町,19677\\n', 'オホーツク,湧別町,8664\\n', 'オホーツク,滝上町,2544\\n', 'オホーツク,興部町,3778\\n', 'オホーツク,西興部村,1067\\n', 'オホーツク,雄武町,4389\\n', 'オホーツク,大空町,7130\\n', '十勝,帯広市,166043\\n', '十勝,音更町,44342\\n', '十勝,士幌町,6044\\n', '十勝,上士幌町,4957\\n', '十勝,鹿追町,5331\\n', '十勝,新得町,6099\\n', '十勝,清水町,9370\\n', '十勝,芽室町,18468\\n', '十勝,中札内村,3917\\n', '十勝,更別村,3157\\n', '十勝,大樹町,5526\\n', '十勝,広尾町,6669\\n', '十勝,幕別町,26636\\n', '十勝,池田町,6619\\n', '十勝,豊頃町,3145\\n', '十勝,本別町,6899\\n', '十勝,足寄町,6787\\n', '十勝,陸別町,2362\\n', '十勝,浦幌町,4615\\n', '釧路,釧路市,168086\\n', '釧路,釧路町,19573\\n', '釧路,厚岸町,9183\\n', '釧路,浜中町,5748\\n', '釧路,標茶町,7509\\n', '釧路,弟子屈町,7102\\n', '釧路,鶴居村,2509\\n', '釧路,白糠町,7710\\n', '根室,根室市,25457\\n', '根室,別海町,15006\\n', '根室,中標津町,23392\\n', '根室,標津町,5243\\n', '根室,羅臼町,4955\\n']\n"
          ],
          "name": "stdout"
        }
      ]
    },
    {
      "cell_type": "markdown",
      "metadata": {
        "id": "5BPP8fhRFrjI"
      },
      "source": [
        "# Q25:北海道の市町村～データ整形～"
      ]
    },
    {
      "cell_type": "code",
      "metadata": {
        "colab": {
          "base_uri": "https://localhost:8080/"
        },
        "id": "buEZI4s0FvuK",
        "outputId": "4b3ef46c-d8d2-410d-b6ac-c322dd625cf1"
      },
      "source": [
        "hokkaido = [ elm.split(',') for elm in text]\r\n",
        "hokkaido = [ [elm[0], elm[1], elm[1][-1], int(elm[2].replace(\"\\n\", \"\"))] for elm in hokkaido]\r\n",
        "print(hokkaido)"
      ],
      "execution_count": null,
      "outputs": [
        {
          "output_type": "stream",
          "text": [
            "[['空知', '夕張市', '市', 7769], ['空知', '岩見沢市', '市', 80410], ['空知', '美唄市', '市', 21058], ['空知', '芦別市', '市', 13204], ['空知', '赤平市', '市', 9906], ['空知', '三笠市', '市', 8302], ['空知', '滝川市', '市', 39861], ['空知', '砂川市', '市', 16848], ['空知', '歌志内市', '市', 3130], ['空知', '深川市', '市', 20422], ['空知', '南幌町', '町', 7461], ['空知', '奈井江町', '町', 5335], ['空知', '上砂川町', '町', 2874], ['空知', '由仁町', '町', 5061], ['空知', '長沼町', '町', 10649], ['空知', '栗山町', '町', 11637], ['空知', '月形町', '町', 3117], ['空知', '浦臼町', '町', 1785], ['空知', '新十津川町', '町', 6532], ['空知', '妹背牛町', '町', 2902], ['空知', '秩父別町', '町', 2401], ['空知', '雨竜町', '町', 2323], ['空知', '北竜町', '町', 1798], ['空知', '沼田町', '町', 3017], ['石狩', '札幌市', '市', 1959313], ['石狩', '江別市', '市', 119580], ['石狩', '千歳市', '市', 97552], ['石狩', '恵庭市', '市', 70049], ['石狩', '北広島市', '市', 58265], ['石狩', '石狩市', '市', 58288], ['石狩', '当別町', '町', 15840], ['石狩', '新篠津村', '村', 3033], ['後志', '小樽市', '市', 114425], ['後志', '島牧村', '村', 1433], ['後志', '寿都町', '町', 2948], ['後志', '黒松内町', '町', 2784], ['後志', '蘭越町', '町', 4669], ['後志', 'ニセコ町', '町', 5403], ['後志', '真狩村', '村', 2079], ['後志', '留寿都村', '村', 2070], ['後志', '喜茂別町', '町', 2201], ['後志', '京極町', '町', 2979], ['後志', '倶知安町', '町', 16892], ['後志', '共和町', '町', 5858], ['後志', '岩内町', '町', 12314], ['後志', '泊村', '村', 1613], ['後志', '神恵内村', '村', 840], ['後志', '積丹町', '町', 1981], ['後志', '古平町', '町', 3015], ['後志', '仁木町', '町', 3251], ['後志', '余市町', '町', 18564], ['後志', '赤井川村', '村', 1273], ['胆振', '室蘭市', '市', 82977], ['胆振', '苫小牧市', '市', 171242], ['胆振', '登別市', '市', 47608], ['胆振', '伊達市', '市', 33896], ['胆振', '豊浦町', '町', 3923], ['胆振', '壮瞥町', '町', 2517], ['胆振', '白老町', '町', 16638], ['胆振', '厚真町', '町', 4500], ['胆振', '洞爺湖町', '町', 8689], ['胆振', '安平町', '町', 7761], ['胆振', 'むかわ町', '町', 7870], ['日高', '日高町', '町', 11919], ['日高', '平取町', '町', 4923], ['日高', '新冠町', '町', 5483], ['日高', '浦河町', '町', 12166], ['日高', '様似町', '町', 4230], ['日高', 'えりも町', '町', 4623], ['日高', '新ひだか町', '町', 22242], ['渡島', '函館市', '市', 255308], ['渡島', '北斗市', '市', 46031], ['渡島', '松前町', '町', 6996], ['渡島', '福島町', '町', 3968], ['渡島', '知内町', '町', 4290], ['渡島', '木古内町', '町', 4066], ['渡島', '七飯町', '町', 28148], ['渡島', '鹿部町', '町', 3899], ['渡島', '森町', '町', 15230], ['渡島', '八雲町', '町', 16293], ['渡島', '長万部町', '町', 5271], ['檜山', '江差町', '町', 7488], ['檜山', '上ノ国町', '町', 4707], ['檜山', '厚沢部町', '町', 3792], ['檜山', '乙部町', '町', 3625], ['檜山', '奥尻町', '町', 2586], ['檜山', '今金町', '町', 5178], ['檜山', 'せたな町', '町', 7743], ['上川', '旭川市', '市', 334070], ['上川', '士別市', '市', 18562], ['上川', '名寄市', '市', 27277], ['上川', '富良野市', '市', 21593], ['上川', '鷹栖町', '町', 6821], ['上川', '東神楽町', '町', 10239], ['上川', '当麻町', '町', 6400], ['上川', '比布町', '町', 3676], ['上川', '愛別町', '町', 2723], ['上川', '上川町', '町', 3510], ['上川', '東川町', '町', 8380], ['上川', '美瑛町', '町', 9912], ['上川', '上富良野町', '町', 10661], ['上川', '中富良野町', '町', 4938], ['上川', '南富良野町', '町', 2434], ['上川', '占冠村', '村', 1613], ['上川', '和寒町', '町', 3278], ['上川', '剣淵町', '町', 3063], ['上川', '下川町', '町', 3254], ['上川', '美深町', '町', 4244], ['上川', '音威子府村', '村', 729], ['上川', '中川町', '町', 1492], ['上川', '幌加内町', '町', 1447], ['留萌', '留萌市', '市', 20715], ['留萌', '増毛町', '町', 4222], ['留萌', '小平町', '町', 3087], ['留萌', '苫前町', '町', 3034], ['留萌', '羽幌町', '町', 6796], ['留萌', '初山別村', '村', 1152], ['留萌', '遠別町', '町', 2626], ['留萌', '天塩町', '町', 3006], ['宗谷', '稚内市', '市', 33605], ['宗谷', '猿払村', '村', 2766], ['宗谷', '浜頓別町', '町', 3535], ['宗谷', '中頓別町', '町', 1679], ['宗谷', '枝幸町', '町', 8027], ['宗谷', '豊富町', '町', 3891], ['宗谷', '礼文町', '町', 2477], ['宗谷', '利尻町', '町', 2001], ['宗谷', '利尻富士町', '町', 2432], ['宗谷', '幌延町', '町', 2294], ['オホーツク', '北見市', '市', 116630], ['オホーツク', '網走市', '市', 35039], ['オホーツク', '紋別市', '市', 21582], ['オホーツク', '美幌町', '町', 19233], ['オホーツク', '津別町', '町', 4597], ['オホーツク', '斜里町', '町', 11530], ['オホーツク', '清里町', '町', 4005], ['オホーツク', '小清水町', '町', 4800], ['オホーツク', '訓子府町', '町', 4889], ['オホーツク', '置戸町', '町', 2837], ['オホーツク', '佐呂間町', '町', 5111], ['オホーツク', '遠軽町', '町', 19677], ['オホーツク', '湧別町', '町', 8664], ['オホーツク', '滝上町', '町', 2544], ['オホーツク', '興部町', '町', 3778], ['オホーツク', '西興部村', '村', 1067], ['オホーツク', '雄武町', '町', 4389], ['オホーツク', '大空町', '町', 7130], ['十勝', '帯広市', '市', 166043], ['十勝', '音更町', '町', 44342], ['十勝', '士幌町', '町', 6044], ['十勝', '上士幌町', '町', 4957], ['十勝', '鹿追町', '町', 5331], ['十勝', '新得町', '町', 6099], ['十勝', '清水町', '町', 9370], ['十勝', '芽室町', '町', 18468], ['十勝', '中札内村', '村', 3917], ['十勝', '更別村', '村', 3157], ['十勝', '大樹町', '町', 5526], ['十勝', '広尾町', '町', 6669], ['十勝', '幕別町', '町', 26636], ['十勝', '池田町', '町', 6619], ['十勝', '豊頃町', '町', 3145], ['十勝', '本別町', '町', 6899], ['十勝', '足寄町', '町', 6787], ['十勝', '陸別町', '町', 2362], ['十勝', '浦幌町', '町', 4615], ['釧路', '釧路市', '市', 168086], ['釧路', '釧路町', '町', 19573], ['釧路', '厚岸町', '町', 9183], ['釧路', '浜中町', '町', 5748], ['釧路', '標茶町', '町', 7509], ['釧路', '弟子屈町', '町', 7102], ['釧路', '鶴居村', '村', 2509], ['釧路', '白糠町', '町', 7710], ['根室', '根室市', '市', 25457], ['根室', '別海町', '町', 15006], ['根室', '中標津町', '町', 23392], ['根室', '標津町', '町', 5243], ['根室', '羅臼町', '町', 4955]]\n"
          ],
          "name": "stdout"
        }
      ]
    },
    {
      "cell_type": "markdown",
      "metadata": {
        "id": "Kz7JfJqWHgDA"
      },
      "source": [
        "# Q26:北海道の市町村～条件判定～"
      ]
    },
    {
      "cell_type": "code",
      "metadata": {
        "colab": {
          "base_uri": "https://localhost:8080/"
        },
        "id": "1I-dAfU6HmnC",
        "outputId": "d6792f9b-893e-44c5-e506-1e69069e46d5"
      },
      "source": [
        "for data in hokkaido:\r\n",
        "  if data[0] == \"石狩\":\r\n",
        "    print(data)"
      ],
      "execution_count": null,
      "outputs": [
        {
          "output_type": "stream",
          "text": [
            "['石狩', '札幌市', '市', 1959313]\n",
            "['石狩', '江別市', '市', 119580]\n",
            "['石狩', '千歳市', '市', 97552]\n",
            "['石狩', '恵庭市', '市', 70049]\n",
            "['石狩', '北広島市', '市', 58265]\n",
            "['石狩', '石狩市', '市', 58288]\n",
            "['石狩', '当別町', '町', 15840]\n",
            "['石狩', '新篠津村', '村', 3033]\n"
          ],
          "name": "stdout"
        }
      ]
    },
    {
      "cell_type": "markdown",
      "metadata": {
        "id": "COyn5tysIC4X"
      },
      "source": [
        "# Q27:北海道の市町村～複数の条件判定1～\r\n",
        "\r\n"
      ]
    },
    {
      "cell_type": "code",
      "metadata": {
        "colab": {
          "base_uri": "https://localhost:8080/"
        },
        "id": "UkaXjRROIH1x",
        "outputId": "ec73e4f9-b2ee-4e61-a2a3-3f7cf66ea7e8"
      },
      "source": [
        "for data in hokkaido:\r\n",
        "  if data[2] == \"市\" and data[3] < 30000:\r\n",
        "    print(data)"
      ],
      "execution_count": null,
      "outputs": [
        {
          "output_type": "stream",
          "text": [
            "['空知', '夕張市', '市', 7769]\n",
            "['空知', '美唄市', '市', 21058]\n",
            "['空知', '芦別市', '市', 13204]\n",
            "['空知', '赤平市', '市', 9906]\n",
            "['空知', '三笠市', '市', 8302]\n",
            "['空知', '砂川市', '市', 16848]\n",
            "['空知', '歌志内市', '市', 3130]\n",
            "['空知', '深川市', '市', 20422]\n",
            "['上川', '士別市', '市', 18562]\n",
            "['上川', '名寄市', '市', 27277]\n",
            "['上川', '富良野市', '市', 21593]\n",
            "['留萌', '留萌市', '市', 20715]\n",
            "['オホーツク', '紋別市', '市', 21582]\n",
            "['根室', '根室市', '市', 25457]\n"
          ],
          "name": "stdout"
        }
      ]
    },
    {
      "cell_type": "markdown",
      "metadata": {
        "id": "mC6RvZaFIsIK"
      },
      "source": [
        "# Q28:北海道の市町村～複数の条件判定2～\r\n"
      ]
    },
    {
      "cell_type": "code",
      "metadata": {
        "colab": {
          "base_uri": "https://localhost:8080/"
        },
        "id": "-9Woq4BEIxLK",
        "outputId": "e86dfc6c-6a25-401d-a8e0-c89a6a981c8d"
      },
      "source": [
        "for data in hokkaido:\r\n",
        "  if data[2] == \"町\" and data[3] >= 10000:\r\n",
        "    print(data)"
      ],
      "execution_count": null,
      "outputs": [
        {
          "output_type": "stream",
          "text": [
            "['空知', '長沼町', '町', 10649]\n",
            "['空知', '栗山町', '町', 11637]\n",
            "['石狩', '当別町', '町', 15840]\n",
            "['後志', '倶知安町', '町', 16892]\n",
            "['後志', '岩内町', '町', 12314]\n",
            "['後志', '余市町', '町', 18564]\n",
            "['胆振', '白老町', '町', 16638]\n",
            "['日高', '日高町', '町', 11919]\n",
            "['日高', '浦河町', '町', 12166]\n",
            "['日高', '新ひだか町', '町', 22242]\n",
            "['渡島', '七飯町', '町', 28148]\n",
            "['渡島', '森町', '町', 15230]\n",
            "['渡島', '八雲町', '町', 16293]\n",
            "['上川', '東神楽町', '町', 10239]\n",
            "['上川', '上富良野町', '町', 10661]\n",
            "['オホーツク', '美幌町', '町', 19233]\n",
            "['オホーツク', '斜里町', '町', 11530]\n",
            "['オホーツク', '遠軽町', '町', 19677]\n",
            "['十勝', '音更町', '町', 44342]\n",
            "['十勝', '芽室町', '町', 18468]\n",
            "['十勝', '幕別町', '町', 26636]\n",
            "['釧路', '釧路町', '町', 19573]\n",
            "['根室', '別海町', '町', 15006]\n",
            "['根室', '中標津町', '町', 23392]\n"
          ],
          "name": "stdout"
        }
      ]
    },
    {
      "cell_type": "markdown",
      "metadata": {
        "id": "uMosyGubI7F5"
      },
      "source": [
        "# Q29:北海道の市町村～複数の条件判定3～"
      ]
    },
    {
      "cell_type": "code",
      "metadata": {
        "colab": {
          "base_uri": "https://localhost:8080/"
        },
        "id": "eE2aSenNJDzF",
        "outputId": "19dd4e30-cc61-4b9a-9ac2-b50a3e75085c"
      },
      "source": [
        "for data in hokkaido:\r\n",
        "  if data[2] == \"村\" and data[3] < 1000:\r\n",
        "    print(data)"
      ],
      "execution_count": null,
      "outputs": [
        {
          "output_type": "stream",
          "text": [
            "['後志', '神恵内村', '村', 840]\n",
            "['上川', '音威子府村', '村', 729]\n"
          ],
          "name": "stdout"
        }
      ]
    },
    {
      "cell_type": "markdown",
      "metadata": {
        "id": "A9CWssIuJNgr"
      },
      "source": [
        "# Q30:北海道の市町村～dictを使った小計～"
      ]
    },
    {
      "cell_type": "code",
      "metadata": {
        "colab": {
          "base_uri": "https://localhost:8080/"
        },
        "id": "kNlNPEvnJTTV",
        "outputId": "1489e9c7-b684-4210-c551-9eb77ec083a3"
      },
      "source": [
        "population = {}\r\n",
        "for data in hokkaido:\r\n",
        "  population[data[0]] = 0\r\n",
        "for data in hokkaido:\r\n",
        "  population[data[0]] += data[-1]\r\n",
        "print(population)"
      ],
      "execution_count": null,
      "outputs": [
        {
          "output_type": "stream",
          "text": [
            "{'空知': 287802, '石狩': 2381920, '後志': 206592, '胆振': 387621, '日高': 65586, '渡島': 389500, '檜山': 35119, '上川': 490316, '留萌': 44638, '宗谷': 62707, 'オホーツク': 277502, '十勝': 336986, '釧路': 227420, '根室': 74053}\n"
          ],
          "name": "stdout"
        }
      ]
    },
    {
      "cell_type": "markdown",
      "metadata": {
        "id": "MEnAqY5KKACC"
      },
      "source": [
        "# Q31:北海道の市町村〜lambdaを使ったソート〜"
      ]
    },
    {
      "cell_type": "code",
      "metadata": {
        "colab": {
          "base_uri": "https://localhost:8080/"
        },
        "id": "ZPc0mbcVKE4Z",
        "outputId": "33107c8c-f7b9-4c9c-d0d2-49b3941e6f54"
      },
      "source": [
        "for data in sorted(hokkaido, key=lambda x: x[1])[:10]:\r\n",
        "  print(data)"
      ],
      "execution_count": null,
      "outputs": [
        {
          "output_type": "stream",
          "text": [
            "['日高', 'えりも町', '町', 4623]\n",
            "['檜山', 'せたな町', '町', 7743]\n",
            "['胆振', 'むかわ町', '町', 7870]\n",
            "['後志', 'ニセコ町', '町', 5403]\n",
            "['渡島', '七飯町', '町', 28148]\n",
            "['空知', '三笠市', '市', 8302]\n",
            "['檜山', '上ノ国町', '町', 4707]\n",
            "['十勝', '上士幌町', '町', 4957]\n",
            "['上川', '上富良野町', '町', 10661]\n",
            "['上川', '上川町', '町', 3510]\n"
          ],
          "name": "stdout"
        }
      ]
    },
    {
      "cell_type": "markdown",
      "metadata": {
        "id": "49bQNaSqK7xm"
      },
      "source": [
        "# Q32:北海道の市町村〜リストの内包表記〜"
      ]
    },
    {
      "cell_type": "code",
      "metadata": {
        "colab": {
          "base_uri": "https://localhost:8080/"
        },
        "id": "ynF7t4BeK_2Y",
        "outputId": "4611204a-9fc6-431c-e269-7838d631e494"
      },
      "source": [
        "towns = [city for city in hokkaido if city[2] == \"町\"]\r\n",
        "for town in sorted(towns, key=lambda x: x[3], reverse=True)[:10]:\r\n",
        "  print(town)"
      ],
      "execution_count": null,
      "outputs": [
        {
          "output_type": "stream",
          "text": [
            "['十勝', '音更町', '町', 44342]\n",
            "['渡島', '七飯町', '町', 28148]\n",
            "['十勝', '幕別町', '町', 26636]\n",
            "['根室', '中標津町', '町', 23392]\n",
            "['日高', '新ひだか町', '町', 22242]\n",
            "['オホーツク', '遠軽町', '町', 19677]\n",
            "['釧路', '釧路町', '町', 19573]\n",
            "['オホーツク', '美幌町', '町', 19233]\n",
            "['後志', '余市町', '町', 18564]\n",
            "['十勝', '芽室町', '町', 18468]\n"
          ],
          "name": "stdout"
        }
      ]
    },
    {
      "cell_type": "markdown",
      "metadata": {
        "id": "7RRnS46tLvum"
      },
      "source": [
        "# Q33:北海道の市町村〜辞書のキーの活⽤〜"
      ]
    },
    {
      "cell_type": "code",
      "metadata": {
        "colab": {
          "base_uri": "https://localhost:8080/"
        },
        "id": "KG645h2sL1T9",
        "outputId": "4f4b41d9-3a40-415c-fc82-a5a3e6fc459c"
      },
      "source": [
        "for kousinkyoku in population.keys():\r\n",
        "  kosinkyokus = [data for data in hokkaido if data[0] == kousinkyoku]\r\n",
        "  for rank in sorted(kosinkyokus, key=lambda x: x[3], reverse=True)[:3]:\r\n",
        "    print(rank)\r\n",
        "  print(\"---\")"
      ],
      "execution_count": null,
      "outputs": [
        {
          "output_type": "stream",
          "text": [
            "['空知', '岩見沢市', '市', 80410]\n",
            "['空知', '滝川市', '市', 39861]\n",
            "['空知', '美唄市', '市', 21058]\n",
            "---\n",
            "['石狩', '札幌市', '市', 1959313]\n",
            "['石狩', '江別市', '市', 119580]\n",
            "['石狩', '千歳市', '市', 97552]\n",
            "---\n",
            "['後志', '小樽市', '市', 114425]\n",
            "['後志', '余市町', '町', 18564]\n",
            "['後志', '倶知安町', '町', 16892]\n",
            "---\n",
            "['胆振', '苫小牧市', '市', 171242]\n",
            "['胆振', '室蘭市', '市', 82977]\n",
            "['胆振', '登別市', '市', 47608]\n",
            "---\n",
            "['日高', '新ひだか町', '町', 22242]\n",
            "['日高', '浦河町', '町', 12166]\n",
            "['日高', '日高町', '町', 11919]\n",
            "---\n",
            "['渡島', '函館市', '市', 255308]\n",
            "['渡島', '北斗市', '市', 46031]\n",
            "['渡島', '七飯町', '町', 28148]\n",
            "---\n",
            "['檜山', 'せたな町', '町', 7743]\n",
            "['檜山', '江差町', '町', 7488]\n",
            "['檜山', '今金町', '町', 5178]\n",
            "---\n",
            "['上川', '旭川市', '市', 334070]\n",
            "['上川', '名寄市', '市', 27277]\n",
            "['上川', '富良野市', '市', 21593]\n",
            "---\n",
            "['留萌', '留萌市', '市', 20715]\n",
            "['留萌', '羽幌町', '町', 6796]\n",
            "['留萌', '増毛町', '町', 4222]\n",
            "---\n",
            "['宗谷', '稚内市', '市', 33605]\n",
            "['宗谷', '枝幸町', '町', 8027]\n",
            "['宗谷', '豊富町', '町', 3891]\n",
            "---\n",
            "['オホーツク', '北見市', '市', 116630]\n",
            "['オホーツク', '網走市', '市', 35039]\n",
            "['オホーツク', '紋別市', '市', 21582]\n",
            "---\n",
            "['十勝', '帯広市', '市', 166043]\n",
            "['十勝', '音更町', '町', 44342]\n",
            "['十勝', '幕別町', '町', 26636]\n",
            "---\n",
            "['釧路', '釧路市', '市', 168086]\n",
            "['釧路', '釧路町', '町', 19573]\n",
            "['釧路', '厚岸町', '町', 9183]\n",
            "---\n",
            "['根室', '根室市', '市', 25457]\n",
            "['根室', '中標津町', '町', 23392]\n",
            "['根室', '別海町', '町', 15006]\n",
            "---\n"
          ],
          "name": "stdout"
        }
      ]
    },
    {
      "cell_type": "markdown",
      "metadata": {
        "id": "MuBPnVUnMx3G"
      },
      "source": [
        "# Q34: 北海道の市町村〜グループ単位のワースト〜"
      ]
    },
    {
      "cell_type": "code",
      "metadata": {
        "colab": {
          "base_uri": "https://localhost:8080/"
        },
        "id": "d3DqsiyJM2IU",
        "outputId": "71f14f77-39a7-4d44-b413-ffce3507a4eb"
      },
      "source": [
        "for kousinkyoku in population.keys():\r\n",
        "  kosinkyokus = [data for data in hokkaido if data[0] == kousinkyoku]\r\n",
        "  for rank in sorted(kosinkyokus, key=lambda x: x[3])[:3]:\r\n",
        "    print(rank)\r\n",
        "  print(\"---\")"
      ],
      "execution_count": null,
      "outputs": [
        {
          "output_type": "stream",
          "text": [
            "['空知', '浦臼町', '町', 1785]\n",
            "['空知', '北竜町', '町', 1798]\n",
            "['空知', '雨竜町', '町', 2323]\n",
            "---\n",
            "['石狩', '新篠津村', '村', 3033]\n",
            "['石狩', '当別町', '町', 15840]\n",
            "['石狩', '北広島市', '市', 58265]\n",
            "---\n",
            "['後志', '神恵内村', '村', 840]\n",
            "['後志', '赤井川村', '村', 1273]\n",
            "['後志', '島牧村', '村', 1433]\n",
            "---\n",
            "['胆振', '壮瞥町', '町', 2517]\n",
            "['胆振', '豊浦町', '町', 3923]\n",
            "['胆振', '厚真町', '町', 4500]\n",
            "---\n",
            "['日高', '様似町', '町', 4230]\n",
            "['日高', 'えりも町', '町', 4623]\n",
            "['日高', '平取町', '町', 4923]\n",
            "---\n",
            "['渡島', '鹿部町', '町', 3899]\n",
            "['渡島', '福島町', '町', 3968]\n",
            "['渡島', '木古内町', '町', 4066]\n",
            "---\n",
            "['檜山', '奥尻町', '町', 2586]\n",
            "['檜山', '乙部町', '町', 3625]\n",
            "['檜山', '厚沢部町', '町', 3792]\n",
            "---\n",
            "['上川', '音威子府村', '村', 729]\n",
            "['上川', '幌加内町', '町', 1447]\n",
            "['上川', '中川町', '町', 1492]\n",
            "---\n",
            "['留萌', '初山別村', '村', 1152]\n",
            "['留萌', '遠別町', '町', 2626]\n",
            "['留萌', '天塩町', '町', 3006]\n",
            "---\n",
            "['宗谷', '中頓別町', '町', 1679]\n",
            "['宗谷', '利尻町', '町', 2001]\n",
            "['宗谷', '幌延町', '町', 2294]\n",
            "---\n",
            "['オホーツク', '西興部村', '村', 1067]\n",
            "['オホーツク', '滝上町', '町', 2544]\n",
            "['オホーツク', '置戸町', '町', 2837]\n",
            "---\n",
            "['十勝', '陸別町', '町', 2362]\n",
            "['十勝', '豊頃町', '町', 3145]\n",
            "['十勝', '更別村', '村', 3157]\n",
            "---\n",
            "['釧路', '鶴居村', '村', 2509]\n",
            "['釧路', '浜中町', '町', 5748]\n",
            "['釧路', '弟子屈町', '町', 7102]\n",
            "---\n",
            "['根室', '羅臼町', '町', 4955]\n",
            "['根室', '標津町', '町', 5243]\n",
            "['根室', '別海町', '町', 15006]\n",
            "---\n"
          ],
          "name": "stdout"
        }
      ]
    }
  ]
}