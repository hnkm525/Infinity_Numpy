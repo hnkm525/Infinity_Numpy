{
  "nbformat": 4,
  "nbformat_minor": 0,
  "metadata": {
    "colab": {
      "name": "InfinityNumpy_chap2.ipynb",
      "provenance": [],
      "authorship_tag": "ABX9TyP5kPod7+/Z8wLqyp7v0qUw",
      "include_colab_link": true
    },
    "kernelspec": {
      "name": "python3",
      "display_name": "Python 3"
    }
  },
  "cells": [
    {
      "cell_type": "markdown",
      "metadata": {
        "id": "view-in-github",
        "colab_type": "text"
      },
      "source": [
        "<a href=\"https://colab.research.google.com/github/hnkm525/Infinity_Numpy/blob/main/InfinityNumpy_chap2.ipynb\" target=\"_parent\"><img src=\"https://colab.research.google.com/assets/colab-badge.svg\" alt=\"Open In Colab\"/></a>"
      ]
    },
    {
      "cell_type": "code",
      "metadata": {
        "id": "0TjtUtjKWOqP"
      },
      "source": [
        "# 2章演習問題解答"
      ],
      "execution_count": null,
      "outputs": []
    },
    {
      "cell_type": "code",
      "metadata": {
        "id": "OXk_gysZWmAy"
      },
      "source": [
        "import numpy as np  "
      ],
      "execution_count": 1,
      "outputs": []
    },
    {
      "cell_type": "code",
      "metadata": {
        "colab": {
          "base_uri": "https://localhost:8080/"
        },
        "id": "z5S-sco2WYd0",
        "outputId": "c842b86c-9a2b-4300-96e5-2d894d6ad810"
      },
      "source": [
        "# Q1:全て0と1\r\n",
        "print(np.ones(3))\r\n",
        "print(np.zeros(7))"
      ],
      "execution_count": null,
      "outputs": [
        {
          "output_type": "stream",
          "text": [
            "[1. 1. 1.]\n",
            "[0. 0. 0. 0. 0. 0. 0.]\n"
          ],
          "name": "stdout"
        }
      ]
    },
    {
      "cell_type": "code",
      "metadata": {
        "colab": {
          "base_uri": "https://localhost:8080/"
        },
        "id": "bd5mX-TwW3Lx",
        "outputId": "d8b094cc-0cf4-4577-c9bb-a1d3b90dfe9d"
      },
      "source": [
        "# Q2:整数のNumPy配列\r\n",
        "o3 = np.ones(3, dtype=np.int32)\r\n",
        "z7 = np.zeros(7, dtype=np.int32)\r\n",
        "print(o3, o3.dtype)\r\n",
        "print(z7, z7.dtype)"
      ],
      "execution_count": null,
      "outputs": [
        {
          "output_type": "stream",
          "text": [
            "[1 1 1] int32\n",
            "[0 0 0 0 0 0 0] int32\n"
          ],
          "name": "stdout"
        }
      ]
    },
    {
      "cell_type": "code",
      "metadata": {
        "colab": {
          "base_uri": "https://localhost:8080/"
        },
        "id": "VpFrDY81Xmaw",
        "outputId": "17b86df3-2e23-43cb-e624-cda56ae6b295"
      },
      "source": [
        "# Q3:中間地点に代入\r\n",
        "xs = np.zeros(5, dtype=np.int32)\r\n",
        "xs[2] = 1\r\n",
        "print(xs)"
      ],
      "execution_count": null,
      "outputs": [
        {
          "output_type": "stream",
          "text": [
            "[0 0 1 0 0]\n"
          ],
          "name": "stdout"
        }
      ]
    },
    {
      "cell_type": "code",
      "metadata": {
        "colab": {
          "base_uri": "https://localhost:8080/"
        },
        "id": "T4bgRPRFX5CA",
        "outputId": "d61fa4fc-b151-4ffe-9602-4717842e7faa"
      },
      "source": [
        "# Q4:奇数と偶数のインデックス(1)\r\n",
        "xs = np.zeros(10, dtype=np.int32)\r\n",
        "xs[::2] = 1\r\n",
        "print(xs)"
      ],
      "execution_count": null,
      "outputs": [
        {
          "output_type": "stream",
          "text": [
            "[1 0 1 0 1 0 1 0 1 0]\n"
          ],
          "name": "stdout"
        }
      ]
    },
    {
      "cell_type": "code",
      "metadata": {
        "colab": {
          "base_uri": "https://localhost:8080/"
        },
        "id": "TkF6PJUOYZ2o",
        "outputId": "8ab092d2-0130-47fa-a74e-cb6a05a38d08"
      },
      "source": [
        "# Q5:奇数と偶数のインデックス(2)\r\n",
        "xs = np.ones(10, dtype=np.int32)\r\n",
        "xs[::2] = 0\r\n",
        "print(xs)"
      ],
      "execution_count": null,
      "outputs": [
        {
          "output_type": "stream",
          "text": [
            "[0 1 0 1 0 1 0 1 0 1]\n"
          ],
          "name": "stdout"
        }
      ]
    },
    {
      "cell_type": "code",
      "metadata": {
        "colab": {
          "base_uri": "https://localhost:8080/"
        },
        "id": "08eAKvBDYxhb",
        "outputId": "980624a5-71ad-424b-d506-e0c1ca52ea24"
      },
      "source": [
        "# Q6:FizzBuzz\r\n",
        "fzbz = np.arange(1, 101, dtype=np.int32)\r\n",
        "fzbz = fzbz.astype(np.object)\r\n",
        "fzbz[2::3] = \"Fizz\"\r\n",
        "fzbz[4::5] = \"Buzz\"\r\n",
        "fzbz[14::15] = \"FizzBuzz\"\r\n",
        "print(fzbz)"
      ],
      "execution_count": null,
      "outputs": [
        {
          "output_type": "stream",
          "text": [
            "[1 2 'Fizz' 4 'Buzz' 'Fizz' 7 8 'Fizz' 'Buzz' 11 'Fizz' 13 14 'FizzBuzz'\n",
            " 16 17 'Fizz' 19 'Buzz' 'Fizz' 22 23 'Fizz' 'Buzz' 26 'Fizz' 28 29\n",
            " 'FizzBuzz' 31 32 'Fizz' 34 'Buzz' 'Fizz' 37 38 'Fizz' 'Buzz' 41 'Fizz' 43\n",
            " 44 'FizzBuzz' 46 47 'Fizz' 49 'Buzz' 'Fizz' 52 53 'Fizz' 'Buzz' 56 'Fizz'\n",
            " 58 59 'FizzBuzz' 61 62 'Fizz' 64 'Buzz' 'Fizz' 67 68 'Fizz' 'Buzz' 71\n",
            " 'Fizz' 73 74 'FizzBuzz' 76 77 'Fizz' 79 'Buzz' 'Fizz' 82 83 'Fizz' 'Buzz'\n",
            " 86 'Fizz' 88 89 'FizzBuzz' 91 92 'Fizz' 94 'Buzz' 'Fizz' 97 98 'Fizz'\n",
            " 'Buzz']\n"
          ],
          "name": "stdout"
        }
      ]
    },
    {
      "cell_type": "code",
      "metadata": {
        "id": "f5NlRY2CaCdC"
      },
      "source": [
        "# Q7:FizzBuzzしばりプレイ\r\n",
        "# Q6が既にMOD縛りをしてるので省略"
      ],
      "execution_count": null,
      "outputs": []
    },
    {
      "cell_type": "code",
      "metadata": {
        "colab": {
          "base_uri": "https://localhost:8080/"
        },
        "id": "N84ELu-XaNLH",
        "outputId": "baa4697f-406f-433b-e645-fa76a41a0e51"
      },
      "source": [
        "# Q8:世界のナベアツ\r\n",
        "ind = np.arange(1, 101, dtype=np.int32)\r\n",
        "nbat = ind.astype(np.object)\r\n",
        "nbat[ind%10 == 3] = \"アホ\"\r\n",
        "nbat[ind//10 == 3] = \"アホ\"\r\n",
        "nbat[ind%3 == 0] = \"アホ\"\r\n",
        "print(nbat)"
      ],
      "execution_count": null,
      "outputs": [
        {
          "output_type": "stream",
          "text": [
            "[1 2 'アホ' 4 5 'アホ' 7 8 'アホ' 10 11 'アホ' 'アホ' 14 'アホ' 16 17 'アホ' 19 20 'アホ'\n",
            " 22 'アホ' 'アホ' 25 26 'アホ' 28 29 'アホ' 'アホ' 'アホ' 'アホ' 'アホ' 'アホ' 'アホ' 'アホ'\n",
            " 'アホ' 'アホ' 40 41 'アホ' 'アホ' 44 'アホ' 46 47 'アホ' 49 50 'アホ' 52 'アホ' 'アホ' 55\n",
            " 56 'アホ' 58 59 'アホ' 61 62 'アホ' 64 65 'アホ' 67 68 'アホ' 70 71 'アホ' 'アホ' 74\n",
            " 'アホ' 76 77 'アホ' 79 80 'アホ' 82 'アホ' 'アホ' 85 86 'アホ' 88 89 'アホ' 91 92 'アホ'\n",
            " 94 95 'アホ' 97 98 'アホ' 100]\n"
          ],
          "name": "stdout"
        }
      ]
    },
    {
      "cell_type": "code",
      "metadata": {
        "colab": {
          "base_uri": "https://localhost:8080/"
        },
        "id": "mAueNqjqcMaD",
        "outputId": "9f3db69e-1818-4be6-c927-4734fda536b0"
      },
      "source": [
        "# Q9:平方数\r\n",
        "xs = np.arange(200, dtype=np.int32)\r\n",
        "xs[np.logical_not(np.isclose(np.sqrt(xs)%1, 0))] = 0\r\n",
        "print(xs)"
      ],
      "execution_count": null,
      "outputs": [
        {
          "output_type": "stream",
          "text": [
            "[  0   1   0   0   4   0   0   0   0   9   0   0   0   0   0   0  16   0\n",
            "   0   0   0   0   0   0   0  25   0   0   0   0   0   0   0   0   0   0\n",
            "  36   0   0   0   0   0   0   0   0   0   0   0   0  49   0   0   0   0\n",
            "   0   0   0   0   0   0   0   0   0   0  64   0   0   0   0   0   0   0\n",
            "   0   0   0   0   0   0   0   0   0  81   0   0   0   0   0   0   0   0\n",
            "   0   0   0   0   0   0   0   0   0   0 100   0   0   0   0   0   0   0\n",
            "   0   0   0   0   0   0   0   0   0   0   0   0   0 121   0   0   0   0\n",
            "   0   0   0   0   0   0   0   0   0   0   0   0   0   0   0   0   0   0\n",
            " 144   0   0   0   0   0   0   0   0   0   0   0   0   0   0   0   0   0\n",
            "   0   0   0   0   0   0   0 169   0   0   0   0   0   0   0   0   0   0\n",
            "   0   0   0   0   0   0   0   0   0   0   0   0   0   0   0   0 196   0\n",
            "   0   0]\n"
          ],
          "name": "stdout"
        }
      ]
    },
    {
      "cell_type": "code",
      "metadata": {
        "colab": {
          "base_uri": "https://localhost:8080/"
        },
        "id": "clGs0Pl1fWpr",
        "outputId": "76f19a33-6fb8-4d11-e79d-6cf4d16dd88b"
      },
      "source": [
        "# Q10:等速直線運動\r\n",
        "print(np.linspace(15, 65, 61))"
      ],
      "execution_count": null,
      "outputs": [
        {
          "output_type": "stream",
          "text": [
            "[15.         15.83333333 16.66666667 17.5        18.33333333 19.16666667\n",
            " 20.         20.83333333 21.66666667 22.5        23.33333333 24.16666667\n",
            " 25.         25.83333333 26.66666667 27.5        28.33333333 29.16666667\n",
            " 30.         30.83333333 31.66666667 32.5        33.33333333 34.16666667\n",
            " 35.         35.83333333 36.66666667 37.5        38.33333333 39.16666667\n",
            " 40.         40.83333333 41.66666667 42.5        43.33333333 44.16666667\n",
            " 45.         45.83333333 46.66666667 47.5        48.33333333 49.16666667\n",
            " 50.         50.83333333 51.66666667 52.5        53.33333333 54.16666667\n",
            " 55.         55.83333333 56.66666667 57.5        58.33333333 59.16666667\n",
            " 60.         60.83333333 61.66666667 62.5        63.33333333 64.16666667\n",
            " 65.        ]\n"
          ],
          "name": "stdout"
        }
      ]
    },
    {
      "cell_type": "code",
      "metadata": {
        "colab": {
          "base_uri": "https://localhost:8080/"
        },
        "id": "8iNK4J6df0sg",
        "outputId": "7495b7c6-d7e1-49a9-c4dc-d42f984d337e"
      },
      "source": [
        "# Q11:連番べき乗\r\n",
        "xs = np.arange(10) ** np.arange(10)\r\n",
        "print(xs)"
      ],
      "execution_count": null,
      "outputs": [
        {
          "output_type": "stream",
          "text": [
            "[        1         1         4        27       256      3125     46656\n",
            "    823543  16777216 387420489]\n"
          ],
          "name": "stdout"
        }
      ]
    },
    {
      "cell_type": "code",
      "metadata": {
        "colab": {
          "base_uri": "https://localhost:8080/"
        },
        "id": "H3ftTwMLgJd6",
        "outputId": "fbf1f143-1e1e-4701-9d47-b69c7662adbf"
      },
      "source": [
        "# Q12:三角関数の加法定理\r\n",
        "# sin(x + y) = sin(x)cos(y) + cos(x)sin(y)\r\n",
        "alpha = np.linspace(0, 2*np.pi, 50)\r\n",
        "beta = np.arange(50)\r\n",
        "sahen = np.sin(alpha + beta)\r\n",
        "uhen = np.sin(alpha)*np.cos(beta) + np.cos(alpha)*np.sin(beta)\r\n",
        "print(np.isclose(sahen, uhen))"
      ],
      "execution_count": null,
      "outputs": [
        {
          "output_type": "stream",
          "text": [
            "[ True  True  True  True  True  True  True  True  True  True  True  True\n",
            "  True  True  True  True  True  True  True  True  True  True  True  True\n",
            "  True  True  True  True  True  True  True  True  True  True  True  True\n",
            "  True  True  True  True  True  True  True  True  True  True  True  True\n",
            "  True  True]\n"
          ],
          "name": "stdout"
        }
      ]
    },
    {
      "cell_type": "code",
      "metadata": {
        "id": "VIsezXVihcYa",
        "outputId": "e07f9348-4ffd-4195-f756-08439a9ddfd6",
        "colab": {
          "base_uri": "https://localhost:8080/"
        }
      },
      "source": [
        "# Q13:GoToトラベル\r\n",
        "tour_costs = np.arange(1000, 30000+1, 500, dtype=np.int32)\r\n",
        "discounted_tour_costs = tour_costs * 0.65\r\n",
        "applied_coupon = np.round(tour_costs * 0.15 + 1, -3)\r\n",
        "payment = (tour_costs - discounted_tour_costs).astype(np.int32)\r\n",
        "actual_payment = (payment - applied_coupon).astype(np.int32)\r\n",
        "\r\n",
        "for x, y, z in zip(tour_costs, payment, actual_payment):\r\n",
        "  print(x, y, z)"
      ],
      "execution_count": 13,
      "outputs": [
        {
          "output_type": "stream",
          "text": [
            "1000 350 350\n",
            "1500 525 525\n",
            "2000 700 700\n",
            "2500 875 875\n",
            "3000 1050 1050\n",
            "3500 1225 225\n",
            "4000 1400 400\n",
            "4500 1575 575\n",
            "5000 1750 750\n",
            "5500 1925 925\n",
            "6000 2100 1100\n",
            "6500 2275 1275\n",
            "7000 2450 1450\n",
            "7500 2625 1625\n",
            "8000 2800 1800\n",
            "8500 2975 1975\n",
            "9000 3150 2150\n",
            "9500 3325 2325\n",
            "10000 3500 1500\n",
            "10500 3675 1675\n",
            "11000 3850 1850\n",
            "11500 4025 2025\n",
            "12000 4200 2200\n",
            "12500 4375 2375\n",
            "13000 4550 2550\n",
            "13500 4725 2725\n",
            "14000 4900 2900\n",
            "14500 5075 3075\n",
            "15000 5250 3250\n",
            "15500 5425 3425\n",
            "16000 5600 3600\n",
            "16500 5775 3775\n",
            "17000 5950 2950\n",
            "17500 6125 3125\n",
            "18000 6300 3300\n",
            "18500 6475 3475\n",
            "19000 6650 3650\n",
            "19500 6825 3825\n",
            "20000 7000 4000\n",
            "20500 7175 4175\n",
            "21000 7350 4350\n",
            "21500 7525 4525\n",
            "22000 7700 4700\n",
            "22500 7875 4875\n",
            "23000 8050 5050\n",
            "23500 8225 4225\n",
            "24000 8400 4400\n",
            "24500 8575 4575\n",
            "25000 8750 4750\n",
            "25500 8925 4925\n",
            "26000 9100 5100\n",
            "26500 9275 5275\n",
            "27000 9450 5450\n",
            "27500 9625 5625\n",
            "28000 9800 5800\n",
            "28500 9975 5975\n",
            "29000 10150 6150\n",
            "29500 10325 6325\n",
            "30000 10500 5500\n"
          ],
          "name": "stdout"
        }
      ]
    },
    {
      "cell_type": "code",
      "metadata": {
        "id": "ATBY5RXuX5A1",
        "outputId": "16be5d6d-d825-4968-b4eb-4488058df3b3",
        "colab": {
          "base_uri": "https://localhost:8080/"
        }
      },
      "source": [
        "# Q14:小数の丸め方\r\n",
        "x = np.linspace(-1, 1, 9)\r\n",
        "fl = np.floor(x)\r\n",
        "ce = np.ceil(x)\r\n",
        "ro = np.round(x)\r\n",
        "Integer = x.astype(np.int32)\r\n",
        "for a, b, c, d, e in zip(x, fl, ce, ro, Integer):\r\n",
        "  print(a, b, c, d, e)\r\n",
        "  print(a.dtype, b.dtype, c.dtype, d.dtype, e.dtype)\r\n",
        " "
      ],
      "execution_count": 15,
      "outputs": [
        {
          "output_type": "stream",
          "text": [
            "-1.0 -1.0 -1.0 -1.0 -1\n",
            "float64 float64 float64 float64 int32\n",
            "-0.75 -1.0 -0.0 -1.0 0\n",
            "float64 float64 float64 float64 int32\n",
            "-0.5 -1.0 -0.0 -0.0 0\n",
            "float64 float64 float64 float64 int32\n",
            "-0.25 -1.0 -0.0 -0.0 0\n",
            "float64 float64 float64 float64 int32\n",
            "0.0 0.0 0.0 0.0 0\n",
            "float64 float64 float64 float64 int32\n",
            "0.25 0.0 1.0 0.0 0\n",
            "float64 float64 float64 float64 int32\n",
            "0.5 0.0 1.0 0.0 0\n",
            "float64 float64 float64 float64 int32\n",
            "0.75 0.0 1.0 1.0 0\n",
            "float64 float64 float64 float64 int32\n",
            "1.0 1.0 1.0 1.0 1\n",
            "float64 float64 float64 float64 int32\n"
          ],
          "name": "stdout"
        }
      ]
    },
    {
      "cell_type": "code",
      "metadata": {
        "id": "VrUeaEgNY_GA",
        "outputId": "72463693-c96e-47d1-d4b9-f3e60ae7b0a1",
        "colab": {
          "base_uri": "https://localhost:8080/"
        }
      },
      "source": [
        "# Q15:ランダムな個数の配列\r\n",
        "for i in range(5):\r\n",
        "  randarr = np.random.randn(10)\r\n",
        "  print(np.ones_like(randarr[randarr>=0]), np.zeros_like(randarr[randarr<0]))"
      ],
      "execution_count": 23,
      "outputs": [
        {
          "output_type": "stream",
          "text": [
            "[1. 1. 1. 1. 1. 1.] [0. 0. 0. 0.]\n",
            "[1. 1. 1. 1. 1.] [0. 0. 0. 0. 0.]\n",
            "[1. 1. 1. 1. 1. 1. 1.] [0. 0. 0.]\n",
            "[1. 1. 1. 1.] [0. 0. 0. 0. 0. 0.]\n",
            "[1. 1. 1. 1. 1.] [0. 0. 0. 0. 0.]\n"
          ],
          "name": "stdout"
        }
      ]
    },
    {
      "cell_type": "code",
      "metadata": {
        "id": "Y4ffZf7zeNmH",
        "outputId": "275fb2b6-41a5-46f3-cfd3-73ebc12c5ac1",
        "colab": {
          "base_uri": "https://localhost:8080/"
        }
      },
      "source": [
        "# Q16:要素が10連続の配列\r\n",
        "ans = np.empty(0)\r\n",
        "for i in range(5):\r\n",
        "  ans = np.concatenate([ans, np.full(10, i, dtype=np.int32)])\r\n",
        "print(ans)"
      ],
      "execution_count": 33,
      "outputs": [
        {
          "output_type": "stream",
          "text": [
            "[0. 0. 0. 0. 0. 0. 0. 0. 0. 0. 1. 1. 1. 1. 1. 1. 1. 1. 1. 1. 2. 2. 2. 2.\n",
            " 2. 2. 2. 2. 2. 2. 3. 3. 3. 3. 3. 3. 3. 3. 3. 3. 4. 4. 4. 4. 4. 4. 4. 4.\n",
            " 4. 4.]\n"
          ],
          "name": "stdout"
        }
      ]
    },
    {
      "cell_type": "code",
      "metadata": {
        "id": "hbumzZJeiWAs",
        "outputId": "0ab7b37d-74f0-4329-f28e-700c673ca8f0",
        "colab": {
          "base_uri": "https://localhost:8080/"
        }
      },
      "source": [
        "# Q17:おーばーふろーあんだーふろー\r\n",
        "arr = np.array([0, 1, 2, 253, 254, 255], dtype=np.uint8)\r\n",
        "print(arr+1)\r\n",
        "print(arr-1)\r\n",
        "print(arr*2)\r\n",
        "print(arr/2)\r\n",
        "print(arr//2)\r\n",
        "\r\n"
      ],
      "execution_count": 40,
      "outputs": [
        {
          "output_type": "stream",
          "text": [
            "[  1   2   3 254 255   0]\n",
            "[255   0   1 252 253 254]\n",
            "[  0   2   4 250 252 254]\n",
            "[  0.    0.5   1.  126.5 127.  127.5]\n",
            "[  0   0   1 126 127 127]\n"
          ],
          "name": "stdout"
        }
      ]
    },
    {
      "cell_type": "code",
      "metadata": {
        "id": "9QgCSy6mj-u1",
        "outputId": "c3972a53-fd22-477e-95cf-b624d52a90a8",
        "colab": {
          "base_uri": "https://localhost:8080/"
        }
      },
      "source": [
        "# Q18:頭打ち処理\r\n",
        "arr = arr = np.array([0, 1, 2, 253, 254, 255], dtype=np.int32)\r\n",
        "print(np.clip(arr+1, 0, 255).astype(np.uint8))\r\n",
        "print(np.clip(arr-1, 0, 255).astype(np.uint8))\r\n",
        "print(np.clip(arr*2, 0, 255).astype(np.uint8))\r\n",
        "print(np.clip(arr/2, 0, 255).astype(np.uint8))\r\n",
        "print(np.clip(arr//2, 0, 255).astype(np.uint8))\r\n"
      ],
      "execution_count": 44,
      "outputs": [
        {
          "output_type": "stream",
          "text": [
            "[  1   2   3 254 255 255]\n",
            "[  0   0   1 252 253 254]\n",
            "[  0   2   4 255 255 255]\n",
            "[  0   0   1 126 127 127]\n",
            "[  0   0   1 126 127 127]\n"
          ],
          "name": "stdout"
        }
      ]
    },
    {
      "cell_type": "code",
      "metadata": {
        "id": "HegZhBJLpYNh"
      },
      "source": [
        "# Q19:魔王と勇者のデータサイエンス\r\n"
      ],
      "execution_count": null,
      "outputs": []
    }
  ]
}